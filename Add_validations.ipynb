{
 "cells": [
  {
   "cell_type": "code",
   "execution_count": 5,
   "metadata": {},
   "outputs": [],
   "source": [
    "import pandas as pd\n",
    "import os\n",
    "from openpyxl import load_workbook"
   ]
  },
  {
   "cell_type": "code",
   "execution_count": 6,
   "metadata": {},
   "outputs": [
    {
     "name": "stdout",
     "output_type": "stream",
     "text": [
      "Appended 'validations' sheet to Aarti.xlsx\n",
      "Appended 'validations' sheet to Aashish.xlsx\n",
      "Appended 'validations' sheet to Aastha.xlsx\n",
      "Appended 'validations' sheet to Aishwarya.xlsx\n",
      "Appended 'validations' sheet to Anamika.xlsx\n",
      "Appended 'validations' sheet to Ashutosh P.xlsx\n",
      "Appended 'validations' sheet to Ashutosh S.xlsx\n",
      "Appended 'validations' sheet to Chanchal.xlsx\n",
      "Appended 'validations' sheet to Charul.xlsx\n",
      "Appended 'validations' sheet to Ganesh.xlsx\n",
      "Appended 'validations' sheet to Janhvi.xlsx\n",
      "Appended 'validations' sheet to Jigar.xlsx\n",
      "Appended 'validations' sheet to Kalpita.xlsx\n",
      "Appended 'validations' sheet to Karan.xlsx\n",
      "Appended 'validations' sheet to Mansi.xlsx\n",
      "Appended 'validations' sheet to Not Assigned.xlsx\n",
      "Appended 'validations' sheet to Pawan.xlsx\n",
      "Appended 'validations' sheet to Prachi.xlsx\n",
      "Appended 'validations' sheet to Pranit.xlsx\n",
      "Appended 'validations' sheet to Rohit.xlsx\n",
      "Appended 'validations' sheet to Ruchi.xlsx\n",
      "Appended 'validations' sheet to Rugved.xlsx\n",
      "Appended 'validations' sheet to Sakshi.xlsx\n",
      "Appended 'validations' sheet to Shreya.xlsx\n",
      "Appended 'validations' sheet to Sonal.xlsx\n",
      "Appended 'validations' sheet to Tarun.xlsx\n",
      "Appended 'validations' sheet to Tushar.xlsx\n",
      "Appended 'validations' sheet to Vamshi.xlsx\n",
      "Appended 'validations' sheet to Venkat.xlsx\n",
      "Process completed.\n"
     ]
    }
   ],
   "source": [
    "# Paths\n",
    "source_folder = input(\"Source Folder\")  # Folder containing 28 target workbooks\n",
    "source_file = input(\"Validation Sheet\")  # Workbook with 'validations' sheet\n",
    "\n",
    "# Load the source workbook and 'validations' sheet\n",
    "source_wb = load_workbook(source_file)\n",
    "validations_sheet = source_wb[\"Validations\"]  # Replace with the actual sheet name if different\n",
    "\n",
    "# Iterate over each Excel workbook in the source folder\n",
    "for file_name in os.listdir(source_folder):\n",
    "    if file_name.endswith(\".xlsx\") and file_name != os.path.basename(source_file):  # Skip the source file\n",
    "        target_file = os.path.join(source_folder, file_name)\n",
    "\n",
    "        # Load the target workbook\n",
    "        target_wb = load_workbook(target_file)\n",
    "\n",
    "        # Check if 'validations' already exists in the target workbook\n",
    "        if \"validations\" in target_wb.sheetnames:\n",
    "            print(f\"'validations' sheet already exists in {file_name}, skipping.\")\n",
    "            continue\n",
    "\n",
    "        # Create a new sheet in the target workbook for 'validations'\n",
    "        new_sheet = target_wb.create_sheet(\"validations\")\n",
    "\n",
    "        # Copy data from the source 'validations' sheet to the new sheet\n",
    "        for row in validations_sheet.iter_rows():\n",
    "            for cell in row:\n",
    "                new_sheet[cell.coordinate].value = cell.value\n",
    "\n",
    "        # Save the updated target workbook\n",
    "        target_wb.save(target_file)\n",
    "        print(f\"Appended 'validations' sheet to {file_name}\")\n",
    "\n",
    "print(\"Process completed.\")\n"
   ]
  },
  {
   "cell_type": "code",
   "execution_count": null,
   "metadata": {},
   "outputs": [],
   "source": [
    "\n"
   ]
  }
 ],
 "metadata": {
  "kernelspec": {
   "display_name": "Python 3",
   "language": "python",
   "name": "python3"
  },
  "language_info": {
   "codemirror_mode": {
    "name": "ipython",
    "version": 3
   },
   "file_extension": ".py",
   "mimetype": "text/x-python",
   "name": "python",
   "nbconvert_exporter": "python",
   "pygments_lexer": "ipython3",
   "version": "3.12.3"
  }
 },
 "nbformat": 4,
 "nbformat_minor": 2
}
