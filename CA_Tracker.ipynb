{
 "cells": [
  {
   "cell_type": "code",
   "execution_count": 9,
   "metadata": {},
   "outputs": [],
   "source": [
    "import pandas as pd\n",
    "import os"
   ]
  },
  {
   "cell_type": "code",
   "execution_count": 10,
   "metadata": {},
   "outputs": [
    {
     "name": "stderr",
     "output_type": "stream",
     "text": [
      "c:\\Users\\aawhad\\AppData\\Local\\Programs\\Python\\Python312\\Lib\\site-packages\\openpyxl\\worksheet\\_reader.py:329: UserWarning: Data Validation extension is not supported and will be removed\n",
      "  warn(msg)\n"
     ]
    },
    {
     "name": "stdout",
     "output_type": "stream",
     "text": [
      "Created file: C:\\CA Tracker\\Splitted Files\\Vamshi.xlsx\n",
      "Created file: C:\\CA Tracker\\Splitted Files\\Not Assigned.xlsx\n",
      "Created file: C:\\CA Tracker\\Splitted Files\\Tushar.xlsx\n",
      "Created file: C:\\CA Tracker\\Splitted Files\\Sakshi.xlsx\n",
      "Created file: C:\\CA Tracker\\Splitted Files\\Ruchi.xlsx\n",
      "Created file: C:\\CA Tracker\\Splitted Files\\Pranit.xlsx\n",
      "Created file: C:\\CA Tracker\\Splitted Files\\Venkat.xlsx\n",
      "Created file: C:\\CA Tracker\\Splitted Files\\Rugved.xlsx\n",
      "Created file: C:\\CA Tracker\\Splitted Files\\Prachi.xlsx\n",
      "Created file: C:\\CA Tracker\\Splitted Files\\Tarun.xlsx\n",
      "Created file: C:\\CA Tracker\\Splitted Files\\Pawan.xlsx\n",
      "Created file: C:\\CA Tracker\\Splitted Files\\Mansi.xlsx\n",
      "Created file: C:\\CA Tracker\\Splitted Files\\Rohit.xlsx\n",
      "Created file: C:\\CA Tracker\\Splitted Files\\Sonal.xlsx\n",
      "Created file: C:\\CA Tracker\\Splitted Files\\Shreya.xlsx\n",
      "Splitting complete!\n"
     ]
    }
   ],
   "source": [
    "def split_excel_by_column(file_path, column_name, output_dir=None):\n",
    "    \"\"\"\n",
    "    Splits an Excel sheet into multiple Excel files based on unique values in a specified column.\n",
    " \n",
    "    :param file_path: Path to the input Excel file.\n",
    "    :param column_name: Column name to split the file on.\n",
    "    :param output_dir: Directory to save the output files. If None, saves in the current directory.\n",
    "    \"\"\"\n",
    "    # Read the Excel file\n",
    "    try:\n",
    "        df = pd.read_excel(file_path)\n",
    "    except Exception as e:\n",
    "        print(f\"Error reading the file: {e}\")\n",
    "        return\n",
    "    if column_name not in df.columns:\n",
    "        print(f\"Column '{column_name}' not found in the Excel file.\")\n",
    "        return\n",
    "    # Set the output directory\n",
    "    if output_dir is None:\n",
    "        output_dir = os.getcwd()\n",
    "    os.makedirs(output_dir, exist_ok=True)\n",
    "    # Group by the unique values in the specified column and save each group\n",
    "    unique_values = df[column_name].unique()\n",
    "    for value in unique_values:\n",
    "        subset = df[df[column_name] == value]\n",
    "        output_file = os.path.join(output_dir, f\"{value}.xlsx\")\n",
    "        try:\n",
    "            subset.to_excel(output_file, index=False, engine='openpyxl')\n",
    "            print(f\"Created file: {output_file}\")\n",
    "        except Exception as e:\n",
    "            print(f\"Error saving file for value '{value}': {e}\")\n",
    "    print(\"Splitting complete!\")\n",
    " \n",
    "# Example usage:\n",
    "if __name__ == \"__main__\":\n",
    "    input_file = input(\"Enter the path to the Excel file: \").strip()\n",
    "    column = input(\"Enter the column name to split by: \").strip()\n",
    "    output_directory = input(\"Enter the output directory (or leave blank for current directory): \").strip()\n",
    "    output_directory = output_directory if output_directory else None\n",
    "    split_excel_by_column(input_file, column, output_directory)"
   ]
  }
 ],
 "metadata": {
  "kernelspec": {
   "display_name": "Python 3",
   "language": "python",
   "name": "python3"
  },
  "language_info": {
   "codemirror_mode": {
    "name": "ipython",
    "version": 3
   },
   "file_extension": ".py",
   "mimetype": "text/x-python",
   "name": "python",
   "nbconvert_exporter": "python",
   "pygments_lexer": "ipython3",
   "version": "3.12.3"
  }
 },
 "nbformat": 4,
 "nbformat_minor": 2
}
